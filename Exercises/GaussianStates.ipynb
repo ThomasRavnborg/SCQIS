{
 "cells": [
  {
   "cell_type": "markdown",
   "id": "ad99bbe6",
   "metadata": {},
   "source": [
    "# Gaussian States"
   ]
  },
  {
   "cell_type": "code",
   "execution_count": null,
   "id": "628bb647",
   "metadata": {},
   "outputs": [],
   "source": [
    "# Import necessary libraries\n",
    "import numpy as np\n",
    "import matplotlib.pyplot as plt\n",
    "from mpl_toolkits.mplot3d import Axes3D\n",
    "from ipywidgets import interact, FloatSlider"
   ]
  },
  {
   "cell_type": "markdown",
   "id": "1c82f2e0",
   "metadata": {},
   "source": [
    "Gaussian states are ...\n",
    "\n",
    "\n",
    "The single-mode Gaussian states are defined:\n"
   ]
  },
  {
   "cell_type": "markdown",
   "id": "17cde68e",
   "metadata": {},
   "source": [
    "$ W(r) = \\frac{1}{2\\pi\\sqrt{\\det(\\sigma)}}e^{-\\frac{1}{2}(r-\\bar{r})^T\\sigma^{-1}(r-\\bar{r})}$"
   ]
  },
  {
   "cell_type": "code",
   "execution_count": null,
   "id": "49476eff",
   "metadata": {},
   "outputs": [],
   "source": []
  },
  {
   "cell_type": "code",
   "execution_count": 49,
   "id": "830bb770",
   "metadata": {},
   "outputs": [
    {
     "data": {
      "application/vnd.jupyter.widget-view+json": {
       "model_id": "77a45bb2ffe8483983a2f95e4429ebc4",
       "version_major": 2,
       "version_minor": 0
      },
      "text/plain": [
       "interactive(children=(FloatSlider(value=0.0, description='x₀', max=2.0, min=-2.0), FloatSlider(value=0.0, desc…"
      ]
     },
     "metadata": {},
     "output_type": "display_data"
    },
    {
     "data": {
      "text/plain": [
       "<function __main__.update(x0=0.0, p0=0.0, theta_deg=0.0, r=0.0, phi_deg=0.0)>"
      ]
     },
     "execution_count": 49,
     "metadata": {},
     "output_type": "execute_result"
    }
   ],
   "source": [
    "# === Wigner function for a Gaussian state ===\n",
    "def wigner_function(x, p, V, d):\n",
    "    X = np.array([x - d[0], p - d[1]])\n",
    "    det_V = np.linalg.det(V)\n",
    "    inv_V = np.linalg.inv(V)\n",
    "    norm = 1 / (2 * np.pi * np.sqrt(det_V))\n",
    "    exponent = -0.5 * np.einsum('ij,jk,ik->i', X.T, inv_V, X.T)\n",
    "    #exponent = -0.5 * X.T @ inv_V @ X\n",
    "    return norm * np.exp(exponent)\n",
    "\n",
    "# === Phase-space transformations ===\n",
    "def rotation_matrix(theta_rad):\n",
    "    c, s = np.cos(theta_rad), np.sin(theta_rad)\n",
    "    return np.array([[c, -s], [s, c]])\n",
    "\n",
    "def squeezing_matrix(r, angle_rad=0):\n",
    "    R = rotation_matrix(angle_rad)\n",
    "    S = np.diag([np.exp(-r), np.exp(r)])\n",
    "    return R @ S @ R.T\n",
    "\n",
    "# === Grid for plotting ===\n",
    "x = np.linspace(-5, 5, 100)\n",
    "p = np.linspace(-5, 5, 100)\n",
    "X, P = np.meshgrid(x, p)\n",
    "coords = np.stack([X.ravel(), P.ravel()], axis=0)\n",
    "\n",
    "# === Plotting function ===\n",
    "def update(x0=0.0, p0=0.0, theta_deg=0.0, r=0.0, phi_deg=0.0):\n",
    "    theta_rad = np.deg2rad(theta_deg)\n",
    "    phi_rad = np.deg2rad(phi_deg)\n",
    "\n",
    "    V = np.eye(2)\n",
    "    S = squeezing_matrix(r, phi_rad)\n",
    "    R = rotation_matrix(theta_rad)\n",
    "    V = R @ S @ V @ S.T @ R.T\n",
    "    d = np.array([x0, p0])\n",
    "    W_vals = wigner_function(coords[0], coords[1], V, d).reshape(X.shape)\n",
    "\n",
    "    # Plotting\n",
    "    fig = plt.figure(figsize=(8, 8))\n",
    "    ax = fig.add_subplot(111, projection='3d')\n",
    "\n",
    "    # Contour floor (surface style)\n",
    "    ax.plot_surface(X, P, W_vals)\n",
    "\n",
    "    # Wireframe\n",
    "    #ax.plot_wireframe(X, P, W_vals, rstride=10, cstride=10,\n",
    "    #                  color='black', linewidth=0.4)\n",
    "\n",
    "    ax.set_xlabel(\"X\")\n",
    "    ax.set_ylabel(\"P\")\n",
    "    ax.set_zlabel(\"Wigner Function\")\n",
    "    ax.set_title(\"Wigner Function of General Gaussian State\", fontsize=12)\n",
    "    ax.set_zlim(np.min(W_vals), np.max(W_vals))\n",
    "    ax.view_init(elev=30, azim=135)\n",
    "    plt.tight_layout()\n",
    "    plt.show()\n",
    "\n",
    "# === Degree-based sliders ===\n",
    "interact(\n",
    "    update,\n",
    "    x0=FloatSlider(min=-2, max=2, step=0.1, value=0, description=\"x₀\"),\n",
    "    p0=FloatSlider(min=-2, max=2, step=0.1, value=0, description=\"p₀\"),\n",
    "    theta_deg=FloatSlider(min=0, max=360, step=5, value=0, description=\"θ (°)\"),\n",
    "    r=FloatSlider(min=0, max=2.0, step=0.05, value=0.0, description=\"r (sqz)\"),\n",
    "    phi_deg=FloatSlider(min=0, max=180, step=5, value=0, description=\"ϕ (°)\")\n",
    ")\n"
   ]
  }
 ],
 "metadata": {
  "kernelspec": {
   "display_name": ".venv",
   "language": "python",
   "name": "python3"
  },
  "language_info": {
   "codemirror_mode": {
    "name": "ipython",
    "version": 3
   },
   "file_extension": ".py",
   "mimetype": "text/x-python",
   "name": "python",
   "nbconvert_exporter": "python",
   "pygments_lexer": "ipython3",
   "version": "3.13.5"
  }
 },
 "nbformat": 4,
 "nbformat_minor": 5
}
