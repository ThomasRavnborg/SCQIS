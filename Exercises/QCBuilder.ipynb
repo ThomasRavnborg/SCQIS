{
 "cells": [
  {
   "cell_type": "markdown",
   "id": "2eb570d1",
   "metadata": {},
   "source": [
    "# Quantum Circuit Builder"
   ]
  },
  {
   "cell_type": "markdown",
   "id": "18897429",
   "metadata": {},
   "source": [
    "In this notebook, I try to make a quantum circuit builder"
   ]
  },
  {
   "cell_type": "code",
   "execution_count": 65,
   "id": "66e706d8",
   "metadata": {},
   "outputs": [],
   "source": [
    "# Importing libraries\n",
    "import numpy as np\n",
    "import qutip as q\n",
    "import matplotlib.pyplot as plt\n",
    "from qutip import gates\n",
    "#from qutip.qip.operations import *\n",
    "#from qutip_qip.circuit import QubitCircuit"
   ]
  },
  {
   "cell_type": "markdown",
   "id": "146bc140",
   "metadata": {},
   "source": [
    "### Numpy"
   ]
  },
  {
   "cell_type": "markdown",
   "id": "95b05876",
   "metadata": {},
   "source": [
    "The first approach is to use numpy for everything (that is no QuTip)"
   ]
  },
  {
   "cell_type": "code",
   "execution_count": 66,
   "id": "b2560f4b",
   "metadata": {},
   "outputs": [],
   "source": [
    "# Defining qbit states 0 and 1\n",
    "bra0 = np.array([[1, 0]])\n",
    "ket0 = bra0.T\n",
    "bra1 = np.array([[0, 1]])\n",
    "ket1 = bra1.T\n",
    "# Defining identity operator and Pauli operators\n",
    "I = np.eye(2)\n",
    "sigx = np.array([[0, 1], [1, 0]])\n",
    "sigy = np.array([[0, -1j], [1j, 0]])\n",
    "sigz = np.array([[1, 0], [0, -1]])\n",
    "# Defining gate operators H, S, T, CNOT, and SWAP\n",
    "H = np.array([[1, 1], [1, -1]]) / np.sqrt(2)\n",
    "S = np.array([[1, 0], [0, 1j]])\n",
    "T = np.array([[1, 0], [0, np.exp(1j * np.pi / 4)]])\n",
    "CNOT = np.array([[1, 0, 0, 0], [0, 1, 0, 0], [0, 0, 0, 1], [0, 0, 1, 0]])\n",
    "SWAP = np.array([[1, 0, 0, 0], [0, 0, 1, 0], [0, 1, 0, 0], [0, 0, 0, 1]])"
   ]
  },
  {
   "cell_type": "markdown",
   "id": "3c4613e3",
   "metadata": {},
   "source": [
    "After defining all the relevant gates, I define a function that applies single qubit gates on each qubit and then takes the kronecker product in the end"
   ]
  },
  {
   "cell_type": "code",
   "execution_count": 147,
   "id": "8a2fae19",
   "metadata": {},
   "outputs": [],
   "source": [
    "def QuantumCircuit(states, gates, targets):\n",
    "    \n",
    "    \"\"\"\n",
    "    Applies a sequence of gates to specified qubits in a quantum state.\n",
    "    \n",
    "    Parameters:\n",
    "    states (numpy.ndarray): The initial quantum states.\n",
    "    gates (list): A list of gate operators to apply.\n",
    "    targets (list): A list of target qubit indices for each gate.\n",
    "    \n",
    "    Returns:\n",
    "    numpy.ndarray: The final quantum state after applying all gates.\n",
    "    \"\"\"\n",
    "\n",
    "    # Determine the number of qubits\n",
    "    N = int(np.size(states)/2)\n",
    "\n",
    "    # Check if the number of gates matches the number of targets\n",
    "    if len(gates) != len(targets):\n",
    "        raise ValueError(\"The number of gates must match the number of targets.\")\n",
    "    # Check if any of the targets are out of range\n",
    "    for target in targets:\n",
    "        if target < 0 or target >= N:\n",
    "            raise ValueError(f\"Target {target} is out of range for {N} qubits.\")\n",
    "    \n",
    "    for i in range(len(gates)):\n",
    "        temp = gates[i] @ states[targets[i]]\n",
    "        states[targets[i]] = temp / np.linalg.norm(temp)  # Normalize the state\n",
    "\n",
    "    return states"
   ]
  },
  {
   "cell_type": "code",
   "execution_count": 150,
   "id": "bcb35fab",
   "metadata": {},
   "outputs": [],
   "source": [
    "# Define states, gates, and targets\n",
    "states = [ket0, ket0]  # Initial state |00>\n",
    "gates = [H] # Apply Hadamard gates to both qubits\n",
    "targets = [0]  # Apply to both qubits"
   ]
  },
  {
   "cell_type": "code",
   "execution_count": 151,
   "id": "55072e5d",
   "metadata": {},
   "outputs": [
    {
     "data": {
      "text/plain": [
       "[array([[0.70710678],\n",
       "        [0.70710678]]),\n",
       " array([[1],\n",
       "        [0]])]"
      ]
     },
     "execution_count": 151,
     "metadata": {},
     "output_type": "execute_result"
    }
   ],
   "source": [
    "QuantumCircuit(states, gates, targets)"
   ]
  },
  {
   "cell_type": "markdown",
   "id": "1761af58",
   "metadata": {},
   "source": [
    "Okay, this is all fine and well, but we need 2-qubit gates as well. To implement these, one has to use kroneker products for all the unitaries and states."
   ]
  },
  {
   "cell_type": "markdown",
   "id": "1bef7b7c",
   "metadata": {},
   "source": [
    "Now the function bellow is used to generate the unitary from single-qubit gates."
   ]
  },
  {
   "cell_type": "code",
   "execution_count": 159,
   "id": "36caee03",
   "metadata": {},
   "outputs": [],
   "source": [
    "def generateUnitary(gates, targets, N):\n",
    "    \"\"\"\n",
    "    Applies given single-qubit gates to specified qubit positions in an N-qubit system.\n",
    "\n",
    "    Parameters:\n",
    "        gates (list of np.ndarray): Single-qubit gate matrices.\n",
    "        targets (list of int): Qubit indices (1-based). 0 means apply to all qubits.\n",
    "        N (int): Total number of qubits.\n",
    "\n",
    "    Returns:\n",
    "        np.ndarray: Full operator as a Kronecker product.\n",
    "    \"\"\"\n",
    "    if len(gates) != len(targets):\n",
    "        raise ValueError(\"The number of gates and targets must be the same.\")\n",
    "\n",
    "    # Start with identity on all qubits\n",
    "    operators = [I for _ in range(N)]\n",
    "\n",
    "    for gate, target in zip(gates, targets):\n",
    "        if target == 0:\n",
    "            # Apply to all qubits\n",
    "            for i in range(N):\n",
    "                operators[i] = gate\n",
    "        else:\n",
    "            # Apply to specific (1-indexed) qubit\n",
    "            if not (1 <= target <= N):\n",
    "                raise ValueError(f\"Target index {target} out of bounds for {N} qubits.\")\n",
    "            operators[target - 1] = gate\n",
    "\n",
    "    # Compute Kronecker product (qubit 1 = leftmost)\n",
    "    result = operators[0]\n",
    "    for op in operators[1:]:\n",
    "        result = np.kron(result, op)\n",
    "\n",
    "    return result"
   ]
  },
  {
   "cell_type": "code",
   "execution_count": 154,
   "id": "a19b286f",
   "metadata": {},
   "outputs": [],
   "source": [
    "# Define states, gates, and targets\n",
    "states = [ket0, ket0] # Initial state |00>\n",
    "gates = [H, H] # Apply Hadamard gates to both qubits\n",
    "targets = [1, 2]  # Apply to both qubits"
   ]
  },
  {
   "cell_type": "code",
   "execution_count": 158,
   "id": "39aebb7a",
   "metadata": {},
   "outputs": [
    {
     "data": {
      "text/plain": [
       "array([[ 0.5,  0.5,  0.5,  0.5],\n",
       "       [ 0.5, -0.5,  0.5, -0.5],\n",
       "       [ 0.5,  0.5, -0.5, -0.5],\n",
       "       [ 0.5, -0.5, -0.5,  0.5]])"
      ]
     },
     "execution_count": 158,
     "metadata": {},
     "output_type": "execute_result"
    }
   ],
   "source": [
    "generateUnitary(gates, targets, 2)"
   ]
  },
  {
   "cell_type": "code",
   "execution_count": 133,
   "id": "9704d15f",
   "metadata": {},
   "outputs": [],
   "source": [
    "def QuantumCircuit(states, gates, targets):\n",
    "    \n",
    "    \"\"\"\n",
    "    Applies a sequence of gates to specified qubits in a quantum state.\n",
    "    \n",
    "    Parameters:\n",
    "    states (list): The initial qubit states.\n",
    "    gates (list): A list of gate operators to apply.\n",
    "    targets (list): A list of target qubit indices for each gate.\n",
    "    \n",
    "    Returns:\n",
    "    numpy.ndarray: The final quantum state after applying all gates.\n",
    "    \"\"\"\n",
    "\n",
    "    # Determine the number of qubits\n",
    "    N = int(np.size(states)/2)\n",
    "\n",
    "    state = states[0]\n",
    "    for i in range(N-1):\n",
    "        state = np.kron(state, states[i])\n",
    "\n",
    "    # Check if the number of gates matches the number of targets\n",
    "    if len(gates) != len(targets):\n",
    "        raise ValueError(\"The number of gates must match the number of targets.\")\n",
    "    # Apply the gates to the specified qubits\n",
    "    for i in range(len(gates)):\n",
    "        gate = gates[i]\n",
    "        gate = GateOnQubit(gate, N, targets[i])\n",
    "        state = np.dot(gate, state)\n",
    "        print(f\"Quantum state after applying gate {i+1} to qubit {targets[i]}:\")\n",
    "        print(state)\n",
    "    return state"
   ]
  },
  {
   "cell_type": "code",
   "execution_count": 137,
   "id": "3a27bb93",
   "metadata": {},
   "outputs": [
    {
     "name": "stdout",
     "output_type": "stream",
     "text": [
      "Quantum state after applying gate 1 to qubit 1:\n",
      "[[0.70710678+0.j]\n",
      " [0.70710678+0.j]\n",
      " [0.        +0.j]\n",
      " [0.        +0.j]]\n",
      "Quantum state after applying gate 2 to qubit 2:\n",
      "[[0.70710678+0.j]\n",
      " [0.70710678+0.j]\n",
      " [0.        +0.j]\n",
      " [0.        +0.j]]\n"
     ]
    },
    {
     "data": {
      "text/plain": [
       "array([[0.70710678+0.j],\n",
       "       [0.70710678+0.j],\n",
       "       [0.        +0.j],\n",
       "       [0.        +0.j]])"
      ]
     },
     "execution_count": 137,
     "metadata": {},
     "output_type": "execute_result"
    }
   ],
   "source": [
    "QuantumCircuit(states, gates, targets)"
   ]
  },
  {
   "cell_type": "code",
   "execution_count": 33,
   "id": "a145977d",
   "metadata": {},
   "outputs": [
    {
     "ename": "ValueError",
     "evalue": "n must be in the range [0, N-1]",
     "output_type": "error",
     "traceback": [
      "\u001b[31m---------------------------------------------------------------------------\u001b[39m",
      "\u001b[31mValueError\u001b[39m                                Traceback (most recent call last)",
      "\u001b[36mCell\u001b[39m\u001b[36m \u001b[39m\u001b[32mIn[33]\u001b[39m\u001b[32m, line 1\u001b[39m\n\u001b[32m----> \u001b[39m\u001b[32m1\u001b[39m \u001b[43mGateOnQubit\u001b[49m\u001b[43m(\u001b[49m\u001b[43msigx\u001b[49m\u001b[43m,\u001b[49m\u001b[43m \u001b[49m\u001b[32;43m2\u001b[39;49m\u001b[43m,\u001b[49m\u001b[43m \u001b[49m\u001b[32;43m0\u001b[39;49m\u001b[43m)\u001b[49m\n",
      "\u001b[36mCell\u001b[39m\u001b[36m \u001b[39m\u001b[32mIn[31]\u001b[39m\u001b[32m, line 18\u001b[39m, in \u001b[36mGateOnQubit\u001b[39m\u001b[34m(gate, N, n)\u001b[39m\n\u001b[32m     16\u001b[39m \u001b[38;5;66;03m# Check if n is within the valid range\u001b[39;00m\n\u001b[32m     17\u001b[39m \u001b[38;5;28;01mif\u001b[39;00m n < \u001b[32m0\u001b[39m \u001b[38;5;129;01mor\u001b[39;00m n >= N:\n\u001b[32m---> \u001b[39m\u001b[32m18\u001b[39m     \u001b[38;5;28;01mraise\u001b[39;00m \u001b[38;5;167;01mValueError\u001b[39;00m(\u001b[33m\"\u001b[39m\u001b[33mn must be in the range [0, N-1]\u001b[39m\u001b[33m\"\u001b[39m)\n\u001b[32m     20\u001b[39m \u001b[38;5;66;03m# Create a complex identity operator for the other qubits\u001b[39;00m\n\u001b[32m     21\u001b[39m identity = np.eye(\u001b[32m2\u001b[39m*N).astype(\u001b[38;5;28mcomplex\u001b[39m)\n",
      "\u001b[31mValueError\u001b[39m: n must be in the range [0, N-1]"
     ]
    }
   ],
   "source": [
    "GateOnQubit(sigx, 2, 0)"
   ]
  },
  {
   "cell_type": "code",
   "execution_count": null,
   "id": "323a2d41",
   "metadata": {},
   "outputs": [],
   "source": [
    "gates[0]"
   ]
  },
  {
   "cell_type": "code",
   "execution_count": 127,
   "id": "1c708ed2",
   "metadata": {},
   "outputs": [
    {
     "data": {
      "text/plain": [
       "2"
      ]
     },
     "execution_count": 127,
     "metadata": {},
     "output_type": "execute_result"
    }
   ],
   "source": [
    "len(gates)"
   ]
  },
  {
   "cell_type": "code",
   "execution_count": 128,
   "id": "4b5dc643",
   "metadata": {},
   "outputs": [],
   "source": [
    "for i in range(len(gates)):\n",
    "    temp = gates[i] @ states[targets[i]]\n",
    "    states[targets[i]] = temp / np.linalg.norm(temp)  # Normalize the state"
   ]
  },
  {
   "cell_type": "code",
   "execution_count": 129,
   "id": "c277a05a",
   "metadata": {},
   "outputs": [
    {
     "data": {
      "text/plain": [
       "[array([[0.70710678],\n",
       "        [0.70710678]]),\n",
       " array([[0.70710678],\n",
       "        [0.70710678]])]"
      ]
     },
     "execution_count": 129,
     "metadata": {},
     "output_type": "execute_result"
    }
   ],
   "source": [
    "states"
   ]
  },
  {
   "cell_type": "code",
   "execution_count": 121,
   "id": "087b723d",
   "metadata": {},
   "outputs": [
    {
     "data": {
      "text/plain": [
       "array([[0.70710678],\n",
       "       [0.70710678]])"
      ]
     },
     "execution_count": 121,
     "metadata": {},
     "output_type": "execute_result"
    }
   ],
   "source": [
    "H @ states[0]"
   ]
  },
  {
   "cell_type": "code",
   "execution_count": 120,
   "id": "b6d53e55",
   "metadata": {},
   "outputs": [
    {
     "data": {
      "text/plain": [
       "[array([[1],\n",
       "        [0]]),\n",
       " array([[1],\n",
       "        [0]])]"
      ]
     },
     "execution_count": 120,
     "metadata": {},
     "output_type": "execute_result"
    }
   ],
   "source": [
    "states"
   ]
  },
  {
   "cell_type": "code",
   "execution_count": 123,
   "id": "4d03361b",
   "metadata": {},
   "outputs": [
    {
     "name": "stdout",
     "output_type": "stream",
     "text": [
      "After applying gate 1 to qubit 0:\n",
      "[[0.70710678+0.j]\n",
      " [0.70710678+0.j]\n",
      " [0.        +0.j]\n",
      " [0.        +0.j]]\n",
      "After applying gate 2 to qubit 1:\n",
      "[[0.70710678+0.j]\n",
      " [0.70710678+0.j]\n",
      " [0.        +0.j]\n",
      " [0.        +0.j]]\n"
     ]
    },
    {
     "data": {
      "text/plain": [
       "array([[0.70710678+0.j],\n",
       "       [0.70710678+0.j],\n",
       "       [0.        +0.j],\n",
       "       [0.        +0.j]])"
      ]
     },
     "execution_count": 123,
     "metadata": {},
     "output_type": "execute_result"
    }
   ],
   "source": [
    "QuantumCircuit(state, gates, targets)"
   ]
  },
  {
   "cell_type": "code",
   "execution_count": 114,
   "id": "c0aaa9f1",
   "metadata": {},
   "outputs": [],
   "source": [
    "def QuantumCircuit(state, gates, targets):\n",
    "    \n",
    "    \"\"\"\n",
    "    Applies a sequence of gates to specified qubits in a quantum state.\n",
    "    \n",
    "    Parameters:\n",
    "    state (numpy.ndarray): The initial quantum state vector.\n",
    "    gates (list): A list of gate operators to apply.\n",
    "    targets (list): A list of target qubit indices for each gate.\n",
    "    \n",
    "    Returns:\n",
    "    numpy.ndarray: The final quantum state after applying all gates.\n",
    "    \"\"\"\n",
    "\n",
    "    # Determine the number of qubits\n",
    "    N = int(np.size(state)/2)\n",
    "\n",
    "    # Check if the number of gates matches the number of targets\n",
    "    if len(gates) != len(targets):\n",
    "        raise ValueError(\"The number of gates must match the number of targets.\")\n",
    "    # Check if any of the targets are out of range\n",
    "    for target in targets:\n",
    "        if target < 0 or target >= N:\n",
    "            raise ValueError(f\"Target {target} is out of range for {N} qubits.\")\n",
    "\n",
    "    for i in range(len(gates)):\n",
    "        gate = gates[i]\n",
    "        gate = GateOnQubit(gate, N, targets[i])\n",
    "        state = np.dot(gate, state)\n",
    "        print(f\"After applying gate {i+1} to qubit {targets[i]}:\")\n",
    "        print(state)\n",
    "    return state"
   ]
  },
  {
   "cell_type": "markdown",
   "id": "d996c80e",
   "metadata": {},
   "source": []
  },
  {
   "cell_type": "code",
   "execution_count": 148,
   "id": "211a54fd",
   "metadata": {},
   "outputs": [
    {
     "data": {
      "text/plain": [
       "array([[ 1,  0],\n",
       "       [ 0, -1]])"
      ]
     },
     "execution_count": 148,
     "metadata": {},
     "output_type": "execute_result"
    }
   ],
   "source": [
    "sigz"
   ]
  },
  {
   "cell_type": "code",
   "execution_count": 149,
   "id": "0681c154",
   "metadata": {},
   "outputs": [
    {
     "data": {
      "text/plain": [
       "array([[1.+0.j, 0.+0.j, 0.+0.j, 0.+0.j, 0.+0.j, 0.+0.j, 0.+0.j, 0.+0.j],\n",
       "       [0.+0.j, 1.+0.j, 0.+0.j, 0.+0.j, 0.+0.j, 0.+0.j, 0.+0.j, 0.+0.j],\n",
       "       [0.+0.j, 0.+0.j, 1.+0.j, 0.+0.j, 0.+0.j, 0.+0.j, 0.+0.j, 0.+0.j],\n",
       "       [0.+0.j, 0.+0.j, 0.+0.j, 1.+0.j, 0.+0.j, 0.+0.j, 0.+0.j, 0.+0.j],\n",
       "       [0.+0.j, 0.+0.j, 0.+0.j, 0.+0.j, 0.+0.j, 1.+0.j, 0.+0.j, 0.+0.j],\n",
       "       [0.+0.j, 0.+0.j, 0.+0.j, 0.+0.j, 1.+0.j, 0.+0.j, 0.+0.j, 0.+0.j],\n",
       "       [0.+0.j, 0.+0.j, 0.+0.j, 0.+0.j, 0.+0.j, 0.+0.j, 1.+0.j, 0.+0.j],\n",
       "       [0.+0.j, 0.+0.j, 0.+0.j, 0.+0.j, 0.+0.j, 0.+0.j, 0.+0.j, 1.+0.j]])"
      ]
     },
     "execution_count": 149,
     "metadata": {},
     "output_type": "execute_result"
    }
   ],
   "source": [
    "apply_gate_to_qubit(sigx, 4, 2)  # Applying Pauli-X gate to the first qubit in a 2-qubit system"
   ]
  },
  {
   "cell_type": "code",
   "execution_count": 85,
   "id": "d4dc8e65",
   "metadata": {},
   "outputs": [
    {
     "data": {
      "text/plain": [
       "array([[1., 0., 0.],\n",
       "       [0., 1., 0.],\n",
       "       [0., 0., 1.]])"
      ]
     },
     "execution_count": 85,
     "metadata": {},
     "output_type": "execute_result"
    }
   ],
   "source": [
    "I_N[0:3, 0:3]"
   ]
  },
  {
   "cell_type": "code",
   "execution_count": null,
   "id": "d893d19f",
   "metadata": {},
   "outputs": [
    {
     "ename": "ValueError",
     "evalue": "could not broadcast input array from shape (2,2) into shape (1,1)",
     "output_type": "error",
     "traceback": [
      "\u001b[31m---------------------------------------------------------------------------\u001b[39m",
      "\u001b[31mValueError\u001b[39m                                Traceback (most recent call last)",
      "\u001b[36mCell\u001b[39m\u001b[36m \u001b[39m\u001b[32mIn[88]\u001b[39m\u001b[32m, line 6\u001b[39m\n\u001b[32m      4\u001b[39m a = np.eye(\u001b[32m2\u001b[39m**N)\n\u001b[32m      5\u001b[39m b = np.zeros((\u001b[32m2\u001b[39m**N, \u001b[32m2\u001b[39m**N))\n\u001b[32m----> \u001b[39m\u001b[32m6\u001b[39m \u001b[43mb\u001b[49m\u001b[43m[\u001b[49m\u001b[32;43m2\u001b[39;49m\u001b[43m*\u001b[49m\u001b[43m*\u001b[49m\u001b[43mn\u001b[49m\u001b[43m:\u001b[49m\u001b[32;43m2\u001b[39;49m\u001b[43m*\u001b[49m\u001b[43m*\u001b[49m\u001b[43m(\u001b[49m\u001b[43mn\u001b[49m\u001b[43m+\u001b[49m\u001b[32;43m1\u001b[39;49m\u001b[43m)\u001b[49m\u001b[43m,\u001b[49m\u001b[43m \u001b[49m\u001b[32;43m2\u001b[39;49m\u001b[43m*\u001b[49m\u001b[43m*\u001b[49m\u001b[43mn\u001b[49m\u001b[43m:\u001b[49m\u001b[32;43m2\u001b[39;49m\u001b[43m*\u001b[49m\u001b[43m*\u001b[49m\u001b[43m(\u001b[49m\u001b[43mn\u001b[49m\u001b[43m+\u001b[49m\u001b[32;43m1\u001b[39;49m\u001b[43m)\u001b[49m\u001b[43m]\u001b[49m = sigx\n\u001b[32m     10\u001b[39m np.kron(a, b)\n",
      "\u001b[31mValueError\u001b[39m: could not broadcast input array from shape (2,2) into shape (1,1)"
     ]
    }
   ],
   "source": [
    "N = 2  # Number of qubits\n",
    "n = 0  # Index of the qubit to apply the operator to\n",
    "\n",
    "np.array([I, sigx, I, I])\n",
    "\n",
    "\n",
    "\n",
    "np.kron(a, b, c, d)\n",
    "\n"
   ]
  },
  {
   "cell_type": "markdown",
   "id": "4bdaacf8",
   "metadata": {},
   "source": [
    "np.eye(2**4)"
   ]
  },
  {
   "cell_type": "code",
   "execution_count": 70,
   "id": "e90216d4",
   "metadata": {},
   "outputs": [],
   "source": [
    "def SigmaX(N, n):\n",
    "    \"\"\"\n",
    "    Returns the Pauli-X operator for qubit n in an N-qubit system.\n",
    "    \"\"\"\n",
    "    if n < 0 or n >= N:\n",
    "        raise ValueError(\"n must be in the range [0, N-1]\")\n",
    "    op = np.eye(2*N)\n",
    "    op[2**n:2**(n+1), 2**n:2**(n+1)] = sigx\n",
    "    return op"
   ]
  },
  {
   "cell_type": "code",
   "execution_count": 57,
   "id": "f8a7ca81",
   "metadata": {},
   "outputs": [
    {
     "data": {
      "text/plain": [
       "1"
      ]
     },
     "execution_count": 57,
     "metadata": {},
     "output_type": "execute_result"
    }
   ],
   "source": [
    "N"
   ]
  },
  {
   "cell_type": "code",
   "execution_count": 58,
   "id": "5cdb6dcb",
   "metadata": {},
   "outputs": [
    {
     "name": "stdout",
     "output_type": "stream",
     "text": [
      "Resulting states after applying gates:\n",
      "State 1: [ 0.70710678 -0.70710678]\n",
      "State 2: [ 0.70710678 -0.70710678]\n"
     ]
    }
   ],
   "source": [
    "gates = np.array([sigx, H])\n",
    "states = np.array([ket0, ket0])\n",
    "\n",
    "# Determine the number of qubits\n",
    "N = len(states)  # Example for two qubits\n",
    "\n",
    "\n",
    "# Defining a function to apply an array of gates to an array of input states\n",
    "def apply_gates(gates, states):\n",
    "    result = []\n",
    "    for state in states:\n",
    "        for gate in gates:\n",
    "            state = np.dot(gate, state)\n",
    "        result.append(state)\n",
    "    return np.array(result)\n",
    "# Applying gates to states\n",
    "result = apply_gates(gates, states)\n",
    "# Printing the result\n",
    "print(\"Resulting states after applying gates:\")\n",
    "for i, state in enumerate(result):\n",
    "    print(f\"State {i+1}: {state}\")\n",
    "\n",
    "\n"
   ]
  },
  {
   "cell_type": "code",
   "execution_count": 49,
   "id": "4ffe13a8",
   "metadata": {},
   "outputs": [],
   "source": [
    "# Defining qbit states 0 and 1\n",
    "ket0 = q.basis(2, 0)\n",
    "bra0 = ket0.dag()\n",
    "ket1 = q.basis(2, 1)\n",
    "bra1 = ket1.dag()\n",
    "# Defining identity operator and Pauli operators\n",
    "I = q.identity(2)\n",
    "sigx = q.sigmax()\n",
    "sigy = q.sigmay()\n",
    "sigz = q.sigmaz()\n",
    "# Defining gate operators\n",
    "H = gates.hadamard_transform()\n",
    "T = gates.t_gate()\n",
    "S = gates.s_gate()\n",
    "CNOT = gates.cnot()\n",
    "SWAP = gates.swap()"
   ]
  },
  {
   "cell_type": "code",
   "execution_count": 52,
   "id": "770e4c5e",
   "metadata": {},
   "outputs": [
    {
     "data": {
      "text/latex": [
       "Quantum object: dims=[[2, 2], [2, 2]], shape=(4, 4), type='oper', dtype=CSR, isherm=True$$\\left(\\begin{array}{cc}1 & 0 & 0 & 0\\\\0 & 1 & 0 & 0\\\\0 & 0 & 0 & 1\\\\0 & 0 & 1 & 0\\end{array}\\right)$$"
      ],
      "text/plain": [
       "Quantum object: dims=[[2, 2], [2, 2]], shape=(4, 4), type='oper', dtype=CSR, isherm=True\n",
       "Qobj data =\n",
       "[[1. 0. 0. 0.]\n",
       " [0. 1. 0. 0.]\n",
       " [0. 0. 0. 1.]\n",
       " [0. 0. 1. 0.]]"
      ]
     },
     "execution_count": 52,
     "metadata": {},
     "output_type": "execute_result"
    }
   ],
   "source": [
    "CNOT"
   ]
  }
 ],
 "metadata": {
  "kernelspec": {
   "display_name": ".venv",
   "language": "python",
   "name": "python3"
  },
  "language_info": {
   "codemirror_mode": {
    "name": "ipython",
    "version": 3
   },
   "file_extension": ".py",
   "mimetype": "text/x-python",
   "name": "python",
   "nbconvert_exporter": "python",
   "pygments_lexer": "ipython3",
   "version": "3.13.5"
  }
 },
 "nbformat": 4,
 "nbformat_minor": 5
}
