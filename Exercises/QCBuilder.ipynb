{
 "cells": [
  {
   "cell_type": "markdown",
   "id": "2eb570d1",
   "metadata": {},
   "source": [
    "# Quantum Circuit Builder"
   ]
  },
  {
   "cell_type": "markdown",
   "id": "18897429",
   "metadata": {},
   "source": [
    "In this notebook, I try to make a quantum circuit builder"
   ]
  },
  {
   "cell_type": "code",
   "execution_count": null,
   "id": "66e706d8",
   "metadata": {},
   "outputs": [],
   "source": [
    "# Importing libraries\n",
    "import numpy as np\n",
    "import qutip as q\n",
    "import matplotlib.pyplot as plt"
   ]
  },
  {
   "cell_type": "markdown",
   "id": "146bc140",
   "metadata": {},
   "source": [
    "### Numpy"
   ]
  },
  {
   "cell_type": "markdown",
   "id": "95b05876",
   "metadata": {},
   "source": [
    "The first approach is to use numpy for everything (that is no QuTip)"
   ]
  },
  {
   "cell_type": "code",
   "execution_count": 2,
   "id": "b2560f4b",
   "metadata": {},
   "outputs": [],
   "source": [
    "# Defining qbit states 0 and 1\n",
    "bra0 = np.array([[1, 0]])\n",
    "ket0 = bra0.T\n",
    "bra1 = np.array([[0, 1]])\n",
    "ket1 = bra1.T\n",
    "# Defining identity operator and Pauli operators\n",
    "I = np.eye(2)\n",
    "sigx = np.array([[0, 1], [1, 0]])\n",
    "sigy = np.array([[0, -1j], [1j, 0]])\n",
    "sigz = np.array([[1, 0], [0, -1]])\n",
    "# Defining gate operators H, S, T, CNOT, and SWAP\n",
    "H = np.array([[1, 1], [1, -1]]) / np.sqrt(2)\n",
    "S = np.array([[1, 0], [0, 1j]])\n",
    "T = np.array([[1, 0], [0, np.exp(1j * np.pi / 4)]])\n",
    "CNOT = np.array([[1, 0, 0, 0], [0, 1, 0, 0], [0, 0, 0, 1], [0, 0, 1, 0]])\n",
    "SWAP = np.array([[1, 0, 0, 0], [0, 0, 1, 0], [0, 1, 0, 0], [0, 0, 0, 1]])"
   ]
  },
  {
   "cell_type": "markdown",
   "id": "3c4613e3",
   "metadata": {},
   "source": [
    "After defining all the relevant gates, I define a function that applies single qubit gates on each qubit and then takes the kronecker product in the end"
   ]
  },
  {
   "cell_type": "code",
   "execution_count": 3,
   "id": "8a2fae19",
   "metadata": {},
   "outputs": [],
   "source": [
    "def QuantumCircuit(states, gates, targets):\n",
    "    \n",
    "    \"\"\"\n",
    "    Applies a sequence of gates to specified qubits in a quantum state.\n",
    "    \n",
    "    Parameters:\n",
    "    states (numpy.ndarray): The initial quantum states.\n",
    "    gates (list): A list of gate operators to apply.\n",
    "    targets (list): A list of target qubit indices for each gate.\n",
    "    \n",
    "    Returns:\n",
    "    numpy.ndarray: The final quantum state after applying all gates.\n",
    "    \"\"\"\n",
    "\n",
    "    # Determine the number of qubits\n",
    "    N = int(np.size(states)/2)\n",
    "\n",
    "    # Check if the number of gates matches the number of targets\n",
    "    if len(gates) != len(targets):\n",
    "        raise ValueError(\"The number of gates must match the number of targets.\")\n",
    "    # Check if any of the targets are out of range\n",
    "    for target in targets:\n",
    "        if target < 0 or target >= N:\n",
    "            raise ValueError(f\"Target {target} is out of range for {N} qubits.\")\n",
    "    \n",
    "    for i in range(len(gates)):\n",
    "        temp = gates[i] @ states[targets[i]]\n",
    "        states[targets[i]] = temp / np.linalg.norm(temp)  # Normalize the state\n",
    "\n",
    "    return states"
   ]
  },
  {
   "cell_type": "code",
   "execution_count": 4,
   "id": "bcb35fab",
   "metadata": {},
   "outputs": [],
   "source": [
    "# Define states, gates, and targets\n",
    "states = [ket0, ket0]  # Initial state |00>\n",
    "gates = [H] # Apply Hadamard gates to both qubits\n",
    "targets = [0]  # Apply to both qubits"
   ]
  },
  {
   "cell_type": "code",
   "execution_count": 268,
   "id": "251059e6",
   "metadata": {},
   "outputs": [
    {
     "data": {
      "text/plain": [
       "[array([[1],\n",
       "        [0]]),\n",
       " array([[1],\n",
       "        [0]])]"
      ]
     },
     "execution_count": 268,
     "metadata": {},
     "output_type": "execute_result"
    }
   ],
   "source": [
    "states"
   ]
  },
  {
   "cell_type": "code",
   "execution_count": 269,
   "id": "55072e5d",
   "metadata": {},
   "outputs": [
    {
     "data": {
      "text/plain": [
       "[array([[0.70710678],\n",
       "        [0.70710678]]),\n",
       " array([[1],\n",
       "        [0]])]"
      ]
     },
     "execution_count": 269,
     "metadata": {},
     "output_type": "execute_result"
    }
   ],
   "source": [
    "QuantumCircuit(states, gates, targets)"
   ]
  },
  {
   "cell_type": "markdown",
   "id": "1761af58",
   "metadata": {},
   "source": [
    "Okay, this is all fine and well, but we need 2-qubit gates as well. To implement these, one has to use kroneker products for all the unitaries and states."
   ]
  },
  {
   "cell_type": "markdown",
   "id": "1bef7b7c",
   "metadata": {},
   "source": [
    "Now the function bellow is used to generate the unitary from a single-qubit gate."
   ]
  },
  {
   "cell_type": "code",
   "execution_count": 24,
   "id": "71651211",
   "metadata": {},
   "outputs": [],
   "source": [
    "def generateUnitary(gate, target, N):\n",
    "    \"\"\"\n",
    "    Applies given single-qubit gate to specified qubit positions in an N-qubit system.\n",
    "    Parameters:\n",
    "        gate (np.ndarray): Single-qubit gate matrix.\n",
    "        target (int): Qubit index (1-based). 0 means apply to all qubits.\n",
    "        N (int): Total number of qubits.\n",
    "    Returns:\n",
    "        np.ndarray: Full operator as a Kronecker product.\n",
    "    \"\"\"\n",
    "    \n",
    "    # Start with identity on all qubits\n",
    "    operators = [I for _ in range(N)]\n",
    "    \n",
    "    # If target is 0, apply the gate to all qubits\n",
    "    if target == 0:\n",
    "        # Apply to all qubits\n",
    "        for i in range(N):\n",
    "            operators[i] = gate\n",
    "    else:\n",
    "        # Apply to specific (1-indexed) qubit\n",
    "        if not (1 <= target <= N):\n",
    "            raise ValueError(f\"Target index {target} out of bounds for {N} qubits.\")\n",
    "        operators[target - 1] = gate\n",
    "\n",
    "    # Compute Kronecker product (qubit 1 = leftmost)\n",
    "    result = operators[0]\n",
    "    for op in operators[1:]:\n",
    "        result = np.kron(result, op)\n",
    "    return result"
   ]
  },
  {
   "cell_type": "code",
   "execution_count": 31,
   "id": "12455857",
   "metadata": {},
   "outputs": [
    {
     "data": {
      "text/plain": [
       "array([[ 0.35355339,  0.35355339,  0.35355339,  0.35355339,  0.35355339,\n",
       "         0.35355339,  0.35355339,  0.35355339],\n",
       "       [ 0.35355339, -0.35355339,  0.35355339, -0.35355339,  0.35355339,\n",
       "        -0.35355339,  0.35355339, -0.35355339],\n",
       "       [ 0.35355339,  0.35355339, -0.35355339, -0.35355339,  0.35355339,\n",
       "         0.35355339, -0.35355339, -0.35355339],\n",
       "       [ 0.35355339, -0.35355339, -0.35355339,  0.35355339,  0.35355339,\n",
       "        -0.35355339, -0.35355339,  0.35355339],\n",
       "       [ 0.35355339,  0.35355339,  0.35355339,  0.35355339, -0.35355339,\n",
       "        -0.35355339, -0.35355339, -0.35355339],\n",
       "       [ 0.35355339, -0.35355339,  0.35355339, -0.35355339, -0.35355339,\n",
       "         0.35355339, -0.35355339,  0.35355339],\n",
       "       [ 0.35355339,  0.35355339, -0.35355339, -0.35355339, -0.35355339,\n",
       "        -0.35355339,  0.35355339,  0.35355339],\n",
       "       [ 0.35355339, -0.35355339, -0.35355339,  0.35355339, -0.35355339,\n",
       "         0.35355339,  0.35355339, -0.35355339]])"
      ]
     },
     "execution_count": 31,
     "metadata": {},
     "output_type": "execute_result"
    }
   ],
   "source": [
    "generateUnitary(gate=H, target=0, N=3)"
   ]
  },
  {
   "cell_type": "code",
   "execution_count": 271,
   "id": "a19b286f",
   "metadata": {},
   "outputs": [],
   "source": [
    "# Define states, gates, and targets\n",
    "states = [ket0, ket0] # Initial state |00>\n",
    "gates = [H]\n",
    "targets = [0]  \n",
    "N = len(states)"
   ]
  },
  {
   "cell_type": "code",
   "execution_count": 273,
   "id": "39aebb7a",
   "metadata": {},
   "outputs": [
    {
     "name": "stdout",
     "output_type": "stream",
     "text": [
      "[[ 0.5  0.5  0.5  0.5]\n",
      " [ 0.5 -0.5  0.5 -0.5]\n",
      " [ 0.5  0.5 -0.5 -0.5]\n",
      " [ 0.5 -0.5 -0.5  0.5]]\n",
      "[[0.5]\n",
      " [0.5]\n",
      " [0.5]\n",
      " [0.5]]\n"
     ]
    }
   ],
   "source": [
    "UT = generateUnitary(gates, targets, N)\n",
    "print(UT)\n",
    "state = np.kron(states[0], states[1])\n",
    "result = UT @ state\n",
    "result /= np.linalg.norm(result)\n",
    "print(result)"
   ]
  },
  {
   "cell_type": "markdown",
   "id": "61d7a9f7",
   "metadata": {},
   "source": [
    "This works well. Now it would be nice to expand onto 2-qubit gates."
   ]
  },
  {
   "cell_type": "code",
   "execution_count": null,
   "id": "4d4aac00",
   "metadata": {},
   "outputs": [],
   "source": []
  },
  {
   "cell_type": "markdown",
   "id": "04de14ed",
   "metadata": {},
   "source": [
    "### QuTip"
   ]
  },
  {
   "cell_type": "code",
   "execution_count": 32,
   "id": "988a78a2",
   "metadata": {},
   "outputs": [],
   "source": [
    "from qutip import gates\n",
    "from qutip.qip.operations import *\n",
    "#from qutip_qip.circuit import QubitCircuit"
   ]
  },
  {
   "cell_type": "code",
   "execution_count": 33,
   "id": "4ffe13a8",
   "metadata": {},
   "outputs": [],
   "source": [
    "# Defining qbit states 0 and 1\n",
    "ket0 = q.basis(2, 0)\n",
    "bra0 = ket0.dag()\n",
    "ket1 = q.basis(2, 1)\n",
    "bra1 = ket1.dag()\n",
    "# Defining identity operator and Pauli operators\n",
    "I = q.identity(2)\n",
    "sigx = q.sigmax()\n",
    "sigy = q.sigmay()\n",
    "sigz = q.sigmaz()\n",
    "# Defining gate operators\n",
    "H = gates.hadamard_transform()\n",
    "T = gates.t_gate()\n",
    "S = gates.s_gate()\n",
    "CNOT = gates.cnot()\n",
    "SWAP = gates.swap()"
   ]
  },
  {
   "cell_type": "code",
   "execution_count": 34,
   "id": "770e4c5e",
   "metadata": {},
   "outputs": [
    {
     "data": {
      "text/latex": [
       "Quantum object: dims=[[2, 2], [2, 2]], shape=(4, 4), type='oper', dtype=Dense, isherm=True$$\\left(\\begin{array}{cc}1 & 0 & 0 & 0\\\\0 & 1 & 0 & 0\\\\0 & 0 & 0 & 1\\\\0 & 0 & 1 & 0\\end{array}\\right)$$"
      ],
      "text/plain": [
       "Quantum object: dims=[[2, 2], [2, 2]], shape=(4, 4), type='oper', dtype=Dense, isherm=True\n",
       "Qobj data =\n",
       "[[1. 0. 0. 0.]\n",
       " [0. 1. 0. 0.]\n",
       " [0. 0. 0. 1.]\n",
       " [0. 0. 1. 0.]]"
      ]
     },
     "execution_count": 34,
     "metadata": {},
     "output_type": "execute_result"
    }
   ],
   "source": [
    "CNOT"
   ]
  }
 ],
 "metadata": {
  "kernelspec": {
   "display_name": ".venv",
   "language": "python",
   "name": "python3"
  },
  "language_info": {
   "codemirror_mode": {
    "name": "ipython",
    "version": 3
   },
   "file_extension": ".py",
   "mimetype": "text/x-python",
   "name": "python",
   "nbconvert_exporter": "python",
   "pygments_lexer": "ipython3",
   "version": "3.13.5"
  }
 },
 "nbformat": 4,
 "nbformat_minor": 5
}
