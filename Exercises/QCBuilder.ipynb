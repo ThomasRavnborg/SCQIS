{
 "cells": [
  {
   "cell_type": "markdown",
   "id": "2eb570d1",
   "metadata": {},
   "source": [
    "# Quantum Circuit Builder"
   ]
  },
  {
   "cell_type": "markdown",
   "id": "18897429",
   "metadata": {},
   "source": [
    "In this notebook, I try to make a quantum circuit builder"
   ]
  },
  {
   "cell_type": "code",
   "execution_count": 63,
   "id": "66e706d8",
   "metadata": {},
   "outputs": [],
   "source": [
    "# Importing libraries\n",
    "import numpy as np\n",
    "import qutip as q\n",
    "import matplotlib.pyplot as plt\n",
    "import random"
   ]
  },
  {
   "cell_type": "markdown",
   "id": "146bc140",
   "metadata": {},
   "source": [
    "### Numpy"
   ]
  },
  {
   "cell_type": "markdown",
   "id": "95b05876",
   "metadata": {},
   "source": [
    "The first approach is to use numpy for everything (that is no QuTip)"
   ]
  },
  {
   "cell_type": "code",
   "execution_count": 64,
   "id": "b2560f4b",
   "metadata": {},
   "outputs": [],
   "source": [
    "# Defining qbit states 0 and 1\n",
    "bra0 = np.array([[1, 0]])                   # Bra vector for state |0>\n",
    "ket0 = bra0.T                               # Ket vector for state |0>\n",
    "bra1 = np.array([[0, 1]])                   # Bra vector for state |1>\n",
    "ket1 = bra1.T                               # Ket vector for state |1>\n",
    "# Defining identity operator and Pauli operators\n",
    "I = np.eye(2)                               # Identity operator\n",
    "sigx = np.array([[0, 1], [1, 0]])           # Pauli-X operator\n",
    "sigy = np.array([[0, -1j], [1j, 0]])        # Pauli-Y operator\n",
    "sigz = np.array([[1, 0], [0, -1]])          # Pauli-Z operator\n",
    "# Defining gate operators H, S, T, CNOT, and SWAP\n",
    "H = np.array([[1, 1], [1, -1]]) / np.sqrt(2) # Hadamard gate\n",
    "S = np.array([[1, 0], [0, 1j]])         # S gate (phase gate)\n",
    "T = np.array([[1, 0], [0, np.exp(1j * np.pi / 4)]]) # T gate (π/8 gate)\n",
    "# Defining dyadic rational phase gate\n",
    "def R(k):\n",
    "    return np.array([[1, 0], [0, np.exp(2j*np.pi/2**k)]])"
   ]
  },
  {
   "cell_type": "markdown",
   "id": "3c4613e3",
   "metadata": {},
   "source": [
    "After defining all the relevant gates, I define a function that applies single qubit gates on each qubit and then takes the kronecker product in the end"
   ]
  },
  {
   "cell_type": "code",
   "execution_count": 65,
   "id": "8a2fae19",
   "metadata": {},
   "outputs": [],
   "source": [
    "def QuantumCircuit(states, gates, targets):\n",
    "    \n",
    "    \"\"\"\n",
    "    Applies a sequence of gates to specified qubits in a quantum state.\n",
    "    \n",
    "    Parameters:\n",
    "    states (numpy.ndarray): The initial quantum states.\n",
    "    gates (list): A list of gate operators to apply.\n",
    "    targets (list): A list of target qubit indices for each gate.\n",
    "    \n",
    "    Returns:\n",
    "    numpy.ndarray: The final quantum state after applying all gates.\n",
    "    \"\"\"\n",
    "\n",
    "    # Determine the number of qubits\n",
    "    N = int(np.size(states)/2)\n",
    "\n",
    "    # Check if the number of gates matches the number of targets\n",
    "    if len(gates) != len(targets):\n",
    "        raise ValueError(\"The number of gates must match the number of targets.\")\n",
    "    # Check if any of the targets are out of range\n",
    "    for target in targets:\n",
    "        if target < 0 or target >= N:\n",
    "            raise ValueError(f\"Target {target} is out of range for {N} qubits.\")\n",
    "    \n",
    "    for i in range(len(gates)):\n",
    "        temp = gates[i] @ states[targets[i]]\n",
    "        states[targets[i]] = temp / np.linalg.norm(temp)  # Normalize the state\n",
    "\n",
    "    return states"
   ]
  },
  {
   "cell_type": "code",
   "execution_count": 66,
   "id": "bcb35fab",
   "metadata": {},
   "outputs": [],
   "source": [
    "# Define states, gates, and targets\n",
    "states = [ket0, ket0]  # Initial state |00>\n",
    "gates = [H] # Apply Hadamard gates to both qubits\n",
    "targets = [0]  # Apply to both qubits"
   ]
  },
  {
   "cell_type": "code",
   "execution_count": 67,
   "id": "251059e6",
   "metadata": {},
   "outputs": [
    {
     "data": {
      "text/plain": [
       "[array([[1],\n",
       "        [0]]),\n",
       " array([[1],\n",
       "        [0]])]"
      ]
     },
     "execution_count": 67,
     "metadata": {},
     "output_type": "execute_result"
    }
   ],
   "source": [
    "states"
   ]
  },
  {
   "cell_type": "code",
   "execution_count": 68,
   "id": "55072e5d",
   "metadata": {},
   "outputs": [
    {
     "data": {
      "text/plain": [
       "[array([[0.70710678],\n",
       "        [0.70710678]]),\n",
       " array([[1],\n",
       "        [0]])]"
      ]
     },
     "execution_count": 68,
     "metadata": {},
     "output_type": "execute_result"
    }
   ],
   "source": [
    "QuantumCircuit(states, gates, targets)"
   ]
  },
  {
   "cell_type": "markdown",
   "id": "1761af58",
   "metadata": {},
   "source": [
    "Okay, this is all fine and well, but we need 2-qubit gates as well. To implement these, one has to use kroneker products for all the unitaries and states."
   ]
  },
  {
   "cell_type": "markdown",
   "id": "1bef7b7c",
   "metadata": {},
   "source": [
    "Now the function bellow is used to generate the unitary from a single-qubit gate."
   ]
  },
  {
   "cell_type": "code",
   "execution_count": 69,
   "id": "71651211",
   "metadata": {},
   "outputs": [],
   "source": [
    "def generateUnitary(gate, target, N):\n",
    "    \"\"\"\n",
    "    Applies given single-qubit gate to specified qubit positions in an N-qubit system.\n",
    "    Parameters:\n",
    "        gate (np.ndarray): Single-qubit gate matrix.\n",
    "        target (int): Qubit index (1-based).\n",
    "        N (int): Total number of qubits.\n",
    "    Returns:\n",
    "        np.ndarray: Full operator as a Kronecker product.\n",
    "    \"\"\"\n",
    "    \n",
    "    # Start with identity on all qubits\n",
    "    operators = [I for _ in range(N)]\n",
    "    \n",
    "    # If target is 0, apply the gate to all qubits\n",
    "    if target == 0:\n",
    "        # Apply to all qubits\n",
    "        for i in range(N):\n",
    "            operators[i] = gate\n",
    "    else:\n",
    "        # Apply to specific (1-indexed) qubit\n",
    "        if not (1 <= target <= N):\n",
    "            raise ValueError(f\"Target index {target} out of bounds for {N} qubits.\")\n",
    "        operators[target - 1] = gate\n",
    "\n",
    "    # Compute Kronecker product (qubit 1 = leftmost)\n",
    "    result = operators[0]\n",
    "    for op in operators[1:]:\n",
    "        result = np.kron(result, op)\n",
    "    return result"
   ]
  },
  {
   "cell_type": "code",
   "execution_count": 70,
   "id": "12455857",
   "metadata": {},
   "outputs": [
    {
     "data": {
      "text/plain": [
       "array([[ 0.35355339,  0.35355339,  0.35355339,  0.35355339,  0.35355339,\n",
       "         0.35355339,  0.35355339,  0.35355339],\n",
       "       [ 0.35355339, -0.35355339,  0.35355339, -0.35355339,  0.35355339,\n",
       "        -0.35355339,  0.35355339, -0.35355339],\n",
       "       [ 0.35355339,  0.35355339, -0.35355339, -0.35355339,  0.35355339,\n",
       "         0.35355339, -0.35355339, -0.35355339],\n",
       "       [ 0.35355339, -0.35355339, -0.35355339,  0.35355339,  0.35355339,\n",
       "        -0.35355339, -0.35355339,  0.35355339],\n",
       "       [ 0.35355339,  0.35355339,  0.35355339,  0.35355339, -0.35355339,\n",
       "        -0.35355339, -0.35355339, -0.35355339],\n",
       "       [ 0.35355339, -0.35355339,  0.35355339, -0.35355339, -0.35355339,\n",
       "         0.35355339, -0.35355339,  0.35355339],\n",
       "       [ 0.35355339,  0.35355339, -0.35355339, -0.35355339, -0.35355339,\n",
       "        -0.35355339,  0.35355339,  0.35355339],\n",
       "       [ 0.35355339, -0.35355339, -0.35355339,  0.35355339, -0.35355339,\n",
       "         0.35355339,  0.35355339, -0.35355339]])"
      ]
     },
     "execution_count": 70,
     "metadata": {},
     "output_type": "execute_result"
    }
   ],
   "source": [
    "generateUnitary(gate=H, target=0, N=3)"
   ]
  },
  {
   "cell_type": "code",
   "execution_count": 71,
   "id": "a19b286f",
   "metadata": {},
   "outputs": [],
   "source": [
    "# Define states, gates, and targets\n",
    "states = [ket0, ket0] # Initial state |00>\n",
    "gates = [H]\n",
    "targets = [0]\n",
    "N = len(states)"
   ]
  },
  {
   "cell_type": "code",
   "execution_count": 72,
   "id": "39aebb7a",
   "metadata": {},
   "outputs": [],
   "source": [
    "#UT = generateUnitary(gates, targets, N)\n",
    "#print(UT)\n",
    "#state = np.kron(states[0], states[1])\n",
    "#result = UT @ state\n",
    "#result /= np.linalg.norm(result)\n",
    "#print(result)"
   ]
  },
  {
   "cell_type": "markdown",
   "id": "61d7a9f7",
   "metadata": {},
   "source": [
    "This works well. Now it would be nice to expand onto 2-qubit gates."
   ]
  },
  {
   "cell_type": "code",
   "execution_count": 73,
   "id": "9647f0a9",
   "metadata": {},
   "outputs": [],
   "source": [
    "# Define a function to compute the Kronecker product of multiple operators\n",
    "def kron_all(op_list):\n",
    "    result = op_list[0]\n",
    "    for op in op_list[1:]:\n",
    "        result = np.kron(result, op)\n",
    "    return result"
   ]
  },
  {
   "cell_type": "code",
   "execution_count": 74,
   "id": "09fef2d9",
   "metadata": {},
   "outputs": [],
   "source": [
    "def SingleQubitGate(gate, targets, N):\n",
    "    \"\"\"\n",
    "    Applies a single-qubit gate to specified qubit positions in an N-qubit system.\n",
    "    Parameters:\n",
    "        gate (np.ndarray): Single-qubit gate matrix.\n",
    "        targets (list): Qubit indicies (0-based).\n",
    "        N (int): Total number of qubits.\n",
    "    Returns:\n",
    "        np.ndarray: Full operator as a Kronecker product.\n",
    "    \"\"\"\n",
    "    # Start with identity on all qubits\n",
    "    operators = [I for _ in range(N)]\n",
    "\n",
    "    for target in targets:\n",
    "        # Validate target index\n",
    "        if not (0 <= target < N):\n",
    "            raise ValueError(f\"Target index {target} out of bounds for {N} qubits.\")\n",
    "        \n",
    "        # Apply the gate to the specified qubit\n",
    "        operators[target] = gate\n",
    "    \n",
    "    # Compute Kronecker product\n",
    "    return kron_all(operators)"
   ]
  },
  {
   "cell_type": "code",
   "execution_count": 75,
   "id": "6ea57455",
   "metadata": {},
   "outputs": [],
   "source": [
    "def ControlQubitGate(gate, control, target, N):\n",
    "    \"\"\"\n",
    "    Constructs a controlled single-qubit gate for a given control and target qubit in an N-qubit system.\n",
    "    Parameters:\n",
    "        gate (np.ndarray): Single-qubit gate matrix.\n",
    "        control (int): Control qubit index (0-based).\n",
    "        target (int): Target qubit index (0-based).\n",
    "        N (int): Total number of qubits.\n",
    "    Returns:\n",
    "        np.ndarray: Full operator as a Kronecker product.\n",
    "    \"\"\"\n",
    "    if not (0 <= control < N) or not (0 <= target < N):\n",
    "        raise ValueError(f\"Control {control} and target {target} must be between 0 and {N-1}.\")\n",
    "    if control == target:\n",
    "        raise ValueError(\"Control and target cannot be the same.\")\n",
    "    \n",
    "    # Start with identities\n",
    "    ops1 = [I for _ in range(N)]\n",
    "    ops2 = [I for _ in range(N)]\n",
    "\n",
    "    # Conditional operators\n",
    "    ops1[control] = ket0 @ bra0  # projector |0⟩⟨0|\n",
    "    ops2[control] = ket1 @ bra1  # projector |1⟩⟨1|\n",
    "    ops2[target] = gate          # apply gate to target if control is |1⟩\n",
    "\n",
    "    return kron_all(ops1) + kron_all(ops2)"
   ]
  },
  {
   "cell_type": "code",
   "execution_count": 76,
   "id": "61375ca2",
   "metadata": {},
   "outputs": [
    {
     "data": {
      "text/plain": [
       "array([[ 0.5,  0.5,  0.5,  0.5],\n",
       "       [ 0.5, -0.5,  0.5, -0.5],\n",
       "       [ 0.5,  0.5, -0.5, -0.5],\n",
       "       [ 0.5, -0.5, -0.5,  0.5]])"
      ]
     },
     "execution_count": 76,
     "metadata": {},
     "output_type": "execute_result"
    }
   ],
   "source": [
    "SingleQubitGate(gate=H, targets=[0, 1], N=2)"
   ]
  },
  {
   "cell_type": "code",
   "execution_count": 77,
   "id": "123bc1b4",
   "metadata": {},
   "outputs": [
    {
     "data": {
      "text/plain": [
       "array([[1., 0., 0., 0.],\n",
       "       [0., 0., 0., 1.],\n",
       "       [0., 0., 1., 0.],\n",
       "       [0., 1., 0., 0.]])"
      ]
     },
     "execution_count": 77,
     "metadata": {},
     "output_type": "execute_result"
    }
   ],
   "source": [
    "ControlQubitGate(gate=sigx, control=1, target=0, N=2)"
   ]
  },
  {
   "cell_type": "markdown",
   "id": "9a6488dd",
   "metadata": {},
   "source": [
    "Now I try to make classes that can be used for easier computation"
   ]
  },
  {
   "cell_type": "code",
   "execution_count": 78,
   "id": "8869022d",
   "metadata": {},
   "outputs": [],
   "source": [
    "# Defining the QuantumState class\n",
    "class QuantumState:\n",
    "    def __init__(self, state_input):\n",
    "        \"\"\"\n",
    "        Parameters:\n",
    "            state_input (str or np.ndarray): Either a bitstring like \"010\" or a\n",
    "            complex vector (1D numpy array).\n",
    "        \"\"\"\n",
    "        # Check the type of input and initialize the state\n",
    "        if isinstance(state_input, str):\n",
    "            self.bitstring = state_input.strip()\n",
    "            self.N = len(self.bitstring)\n",
    "            self.dim = 2 ** self.N\n",
    "            self.state = np.zeros((self.dim,), dtype=complex)\n",
    "            index = int(self.bitstring, 2)\n",
    "            self.state[index] = 1.0 + 0j\n",
    "        elif isinstance(state_input, np.ndarray):\n",
    "            if state_input.ndim != 1:\n",
    "                raise ValueError(\"State vector must be 1D.\")\n",
    "            dim = state_input.shape[0]\n",
    "            N = int(np.log2(dim))\n",
    "            if 2 ** N != dim:\n",
    "                raise ValueError(\"Length of state vector must be a power of 2.\")\n",
    "            self.state = np.array(state_input, dtype=complex)  # defensive copy\n",
    "            self.N = N\n",
    "            self.dim = dim\n",
    "        else:\n",
    "            raise TypeError(\"Input must be a bitstring (str) or a 1D NumPy array.\")\n",
    "        # Normalize the state upond\n",
    "        self._normalize()\n",
    "\n",
    "    def _normalize(self):\n",
    "        norm = np.linalg.norm(self.state)\n",
    "        if norm == 0:\n",
    "            raise ValueError(\"Quantum state has zero norm.\")\n",
    "        self.state = self.state / norm\n",
    "\n",
    "    def apply_circuit(self, qc):\n",
    "        if qc.N != self.N:\n",
    "            raise ValueError(f\"QuantumCircuit has {qc.N} qubits but state has {self.N}.\")\n",
    "        self.state = qc.apply_to_state(self.state)\n",
    "        self._normalize()\n",
    "\n",
    "    def measure(self, qubits):\n",
    "        \"\"\"\n",
    "        Measures the given qubit(s) and collapses the state accordingly.\n",
    "        Parameters:\n",
    "            qubits (list): Indices of qubits to measure (0 = leftmost).\n",
    "        Returns:\n",
    "            str: Bitstring result of measurement (qubit 0 is leftmost).\n",
    "        \"\"\"\n",
    "        if isinstance(qubits, int):\n",
    "            qubits = [qubits]\n",
    "\n",
    "        for q in qubits:\n",
    "            if not (0 <= q < self.N):\n",
    "                raise ValueError(f\"Qubit index {q} is out of bounds.\")\n",
    "\n",
    "        probs = np.abs(self.state) ** 2\n",
    "        basis_states = [format(i, f\"0{self.N}b\") for i in range(self.dim)]\n",
    "\n",
    "        # Compute probabilities for each outcome of the measured qubits\n",
    "        outcome_probs = {}\n",
    "        for i, b in enumerate(basis_states):\n",
    "            key = ''.join(b[q] for q in qubits)  # Qubit 0 = leftmost\n",
    "            outcome_probs.setdefault(key, 0)\n",
    "            outcome_probs[key] += probs[i]\n",
    "\n",
    "        # Filter only outcomes with nonzero probability\n",
    "        nonzero_outcomes = {k: v for k, v in outcome_probs.items() if v > 1e-12}\n",
    "\n",
    "        if not nonzero_outcomes:\n",
    "            raise RuntimeError(\"State has no valid measurement outcomes. This should not happen.\")\n",
    "\n",
    "        # If only one possible outcome → deterministic, no collapse\n",
    "        if len(nonzero_outcomes) == 1:\n",
    "            return next(iter(nonzero_outcomes))  # return the single outcome\n",
    "\n",
    "        # Otherwise, sample one outcome probabilistically\n",
    "        outcomes = list(nonzero_outcomes.keys())\n",
    "        weights = [nonzero_outcomes[k] for k in outcomes]\n",
    "        chosen = random.choices(outcomes, weights=weights)[0]\n",
    "\n",
    "        # Collapse the state to match measured outcome\n",
    "        new_state = np.zeros_like(self.state)\n",
    "        for i, b in enumerate(basis_states):\n",
    "            key = ''.join(b[q] for q in qubits)\n",
    "            if key == chosen:\n",
    "                new_state[i] = self.state[i]\n",
    "\n",
    "        self.state = new_state\n",
    "        self._normalize()\n",
    "\n",
    "        return chosen\n",
    "\n",
    "    def __str__(self):\n",
    "        terms = []\n",
    "        for i, amp in enumerate(self.state):\n",
    "            if np.abs(amp) > 1e-10:\n",
    "                bitstring = format(i, f'0{self.N}b')\n",
    "                coeff = amp\n",
    "                if np.isclose(coeff.imag, 0):\n",
    "                    coeff_str = f\"{coeff.real:.3f}\"\n",
    "                elif np.isclose(coeff.real, 0):\n",
    "                    coeff_str = f\"{coeff.imag:.3f}j\"\n",
    "                else:\n",
    "                    coeff_str = f\"({coeff.real:.3f}+{coeff.imag:.3f}j)\"\n",
    "                terms.append(f\"{coeff_str}|{bitstring}>\")\n",
    "        return \" + \".join(terms)\n",
    "\n",
    "    def as_vector(self):\n",
    "        return self.state.copy()"
   ]
  },
  {
   "cell_type": "code",
   "execution_count": 79,
   "id": "f4480f30",
   "metadata": {},
   "outputs": [],
   "source": [
    "class QuantumCircuit:\n",
    "    def __init__(self, num_qubits):\n",
    "        self.N = num_qubits\n",
    "        self.unitary = np.eye(2 ** self.N)\n",
    "        self.operations = []  # To store gates for visualization\n",
    "\n",
    "    def apply_single(self, gate, targets, name=\"U\"):\n",
    "        full_gate = SingleQubitGate(gate, targets, self.N)\n",
    "        self.unitary = full_gate @ self.unitary\n",
    "        self.operations.append((\"single\", name, targets))\n",
    "\n",
    "    def apply_controlled(self, gate, control, target, name=\"CU\"):\n",
    "        full_gate = ControlQubitGate(gate, control, target, self.N)\n",
    "        self.unitary = full_gate @ self.unitary\n",
    "        self.operations.append((\"control\", name, control, target))\n",
    "\n",
    "    def get_unitary(self):\n",
    "        return self.unitary\n",
    "\n",
    "    def apply_to_state(self, state):\n",
    "        if len(state) != 2 ** self.N:\n",
    "            raise ValueError(f\"State vector must have length {2 ** self.N}.\")\n",
    "        return self.unitary @ state\n",
    "\n",
    "    def draw(self):\n",
    "        \"\"\"Prints a text-based circuit diagram.\"\"\"\n",
    "        print(\"Circuit diagram:\")\n",
    "        layers = []\n",
    "        for op in self.operations:\n",
    "            layer = [\"───\" for _ in range(self.N)]  # one \"time step\"\n",
    "            if op[0] == \"single\":\n",
    "                name = op[1]\n",
    "                for target in op[2]:\n",
    "                    layer[target] = f\"-{name}-\"\n",
    "            elif op[0] == \"control\":\n",
    "                name = op[1]\n",
    "                c, t = op[2], op[3]\n",
    "                min_q, max_q = min(c, t), max(c, t)\n",
    "                for i in range(min_q + 1, max_q):\n",
    "                    layer[i] = \" │ \"\n",
    "                layer[c] = \" ● \"\n",
    "                layer[t] = f\"-{name[-1]}-\"\n",
    "            layers.append(layer)\n",
    "\n",
    "        # Transpose layers to qubit lines\n",
    "        for q in range(self.N):\n",
    "            line = f\"q{q} | \"\n",
    "            for layer in layers:\n",
    "                line += layer[q]\n",
    "            print(line)\n",
    "        #print(\"Total number of gates:\", len(self.operations))"
   ]
  },
  {
   "cell_type": "code",
   "execution_count": 88,
   "id": "f3d05c76",
   "metadata": {},
   "outputs": [
    {
     "name": "stdout",
     "output_type": "stream",
     "text": [
      "Circuit diagram:\n",
      "q0 | -H-─── ● -H-\n",
      "q1 | -H--S--X--H-\n",
      "q2 | ────────────\n",
      "Initial state:\n",
      "1.000|000>\n",
      "After applying circuit:\n",
      "(0.500+0.500j)|000> + (0.500+-0.500j)|110>\n",
      "Measurement result for qubits 1 and 2: 000\n",
      "(0.707+0.707j)|000>\n"
     ]
    }
   ],
   "source": [
    "# Initialize a 3-qubit circuit\n",
    "qc = QuantumCircuit(3)\n",
    "\n",
    "# Apply Hadamard to both qubits\n",
    "qc.apply_single(gate=H, targets=[0, 1], name='H')\n",
    "\n",
    "# Apply S to qubit 1\n",
    "qc.apply_single(gate=S, targets=[1], name='S')\n",
    "\n",
    "# Apply CNOT with control=0, target=1\n",
    "qc.apply_controlled(sigx, control=0, target=1, name='CX')\n",
    "\n",
    "# Apply Hadamard to both qubits\n",
    "qc.apply_single(gate=H, targets=[0, 1], name='H')\n",
    "\n",
    "# Draw the circuit\n",
    "qc.draw()\n",
    "\n",
    "# Create quantum state |000⟩\n",
    "qs = QuantumState(\"000\")\n",
    "print(\"Initial state:\")\n",
    "print(qs)\n",
    "# Apply circuit\n",
    "qs.apply_circuit(qc)\n",
    "print(\"After applying circuit:\")\n",
    "print(qs)\n",
    "# Measure the first qubit\n",
    "result = qs.measure([0, 1, 2])\n",
    "print(\"Measurement result for qubits 1 and 2:\", result)\n",
    "print(qs)"
   ]
  },
  {
   "cell_type": "code",
   "execution_count": 81,
   "id": "a27f25b9",
   "metadata": {},
   "outputs": [
    {
     "name": "stdout",
     "output_type": "stream",
     "text": [
      "Circuit diagram:\n",
      "Circuit diagram:\n",
      "q0 | -H--2--3-─────────\n",
      "q1 | ─── ●  │ -H--2-───\n",
      "q2 | ────── ● ─── ● -H-\n",
      "Initial state:\n",
      "1.000|000>\n",
      "After applying circuit:\n",
      "0.354|000> + 0.354|001> + 0.354|010> + 0.354|011> + 0.354|100> + 0.354|101> + 0.354|110> + 0.354|111>\n",
      "Measurement result for qubits 0: 11\n",
      "0.707|110> + 0.707|111>\n"
     ]
    }
   ],
   "source": [
    "# Initialize a 3-qubit circuit\n",
    "qc = QuantumCircuit(3)\n",
    "\n",
    "# Apply Hadamard to qubit 0\n",
    "qc.apply_single(gate=H, targets=[0], name='H')\n",
    "# Apply CR2 gate to qubit 0\n",
    "qc.apply_controlled(gate=R(2), control=1, target=0, name='R2')\n",
    "# Apply CR3 gate to qubit 0\n",
    "qc.apply_controlled(gate=R(3), control=2, target=0, name='R3')\n",
    "# Apply Hadamard to qubit 1\n",
    "qc.apply_single(gate=H, targets=[1], name='H')\n",
    "# Apply CR2 gate to qubit 1\n",
    "qc.apply_controlled(gate=R(2), control=2, target=1, name='R2')\n",
    "# Apply Hadamard to qubit 2\n",
    "qc.apply_single(gate=H, targets=[2], name='H')\n",
    "\n",
    "# Draw the circuit\n",
    "print(\"Circuit diagram:\")\n",
    "qc.draw()\n",
    "\n",
    "# Create quantum state |000⟩\n",
    "qs = QuantumState(\"000\")\n",
    "print(\"Initial state:\")\n",
    "print(qs)\n",
    "# Apply circuit\n",
    "qs.apply_circuit(qc)\n",
    "print(\"After applying circuit:\")\n",
    "print(qs)\n",
    "# Measure the first qubit\n",
    "result = qs.measure([0, 1])\n",
    "print(\"Measurement result for qubits 0:\", result)\n",
    "print(qs)"
   ]
  },
  {
   "cell_type": "code",
   "execution_count": 84,
   "id": "6d4b957b",
   "metadata": {},
   "outputs": [
    {
     "name": "stdout",
     "output_type": "stream",
     "text": [
      "Initial state:\n",
      "0.707|000> + 0.707|111>\n",
      "After applying circuit:\n",
      "0.500|000> + (0.250+-0.250j)|010> + (0.250+0.250j)|011> + (0.427+-0.177j)|100> + (0.073+0.177j)|101> + (0.073+-0.177j)|110> + (0.427+0.177j)|111>\n"
     ]
    }
   ],
   "source": [
    "# Create a quantum state |000⟩ + |111⟩\n",
    "vec = np.zeros(8, dtype=complex)\n",
    "vec[0] = 1\n",
    "vec[7] = 1\n",
    "qs = QuantumState(vec)\n",
    "print(\"Initial state:\")\n",
    "print(qs)\n",
    "# Apply circuit\n",
    "qs.apply_circuit(qc)\n",
    "print(\"After applying circuit:\")\n",
    "print(qs)"
   ]
  },
  {
   "cell_type": "markdown",
   "id": "1813bf1f",
   "metadata": {},
   "source": [
    "### QuTip"
   ]
  },
  {
   "cell_type": "code",
   "execution_count": 1,
   "id": "e454049b",
   "metadata": {},
   "outputs": [],
   "source": [
    "import qutip\n",
    "import numpy as np\n",
    "from qutip import Qobj\n",
    "from qutip_qip.operations import rx\n",
    "from qutip_qip.circuit import QubitCircuit"
   ]
  },
  {
   "cell_type": "code",
   "execution_count": 21,
   "id": "b9ba6832",
   "metadata": {},
   "outputs": [
    {
     "data": {
      "image/png": "[encoded data removed]",
      "text/plain": [
       "<Figure size 655.626x655.626 with 1 Axes>"
      ]
     },
     "metadata": {},
     "output_type": "display_data"
    }
   ],
   "source": [
    "qc = QubitCircuit(2, reverse_states=False)\n",
    "qc.add_gate(\"SNOT\", targets=0)\n",
    "qc.add_gate(\"SNOT\", targets=1)\n",
    "qc.add_gate(\"S\", targets=1)\n",
    "qc.add_gate(\"CNOT\", controls=0, targets=1)\n",
    "qc.add_gate(\"SNOT\", targets=0)\n",
    "qc.add_gate(\"SNOT\", targets=1)\n",
    "qc.draw()"
   ]
  }
 ],
 "metadata": {
  "kernelspec": {
   "display_name": ".venv",
   "language": "python",
   "name": "python3"
  },
  "language_info": {
   "codemirror_mode": {
    "name": "ipython",
    "version": 3
   },
   "file_extension": ".py",
   "mimetype": "text/x-python",
   "name": "python",
   "nbconvert_exporter": "python",
   "pygments_lexer": "ipython3",
   "version": "3.13.5"
  }
 },
 "nbformat": 4,
 "nbformat_minor": 5
}
