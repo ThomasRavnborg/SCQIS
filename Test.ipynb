{
 "cells": [
  {
   "cell_type": "markdown",
   "id": "007888e1",
   "metadata": {},
   "source": [
    "### Test notebook"
   ]
  },
  {
   "cell_type": "code",
   "execution_count": null,
   "id": "f1426f13",
   "metadata": {},
   "outputs": [],
   "source": [
    "a = 5\n",
    "print(a*2)\n",
    "# This script multiplies a variable by 2 and prints the result.\n",
    "# The variable 'a' is initialized to 5, and the output will be 10"
   ]
  }
 ],
 "metadata": {
  "language_info": {
   "name": "python"
  }
 },
 "nbformat": 4,
 "nbformat_minor": 5
}
