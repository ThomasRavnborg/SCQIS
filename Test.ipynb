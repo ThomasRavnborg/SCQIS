{
 "cells": [
  {
   "cell_type": "markdown",
   "id": "007888e1",
   "metadata": {},
   "source": [
    "### Test notebook"
   ]
  },
  {
   "cell_type": "code",
   "execution_count": 5,
   "id": "32276637",
   "metadata": {},
   "outputs": [],
   "source": [
    "import numpy as np"
   ]
  },
  {
   "cell_type": "code",
   "execution_count": null,
   "id": "f1426f13",
   "metadata": {},
   "outputs": [
    {
     "name": "stdout",
     "output_type": "stream",
     "text": [
      "20\n"
     ]
    }
   ],
   "source": [
    "# This script multiplies a variable by 4 and prints the result.\n",
    "# The variable 'a' is initialized to 5, and the output will be 20.\n",
    "a = np.array(5)\n",
    "print(a*4)"
   ]
  },
  {
   "cell_type": "code",
   "execution_count": 9,
   "id": "9fd02b50",
   "metadata": {},
   "outputs": [
    {
     "data": {
      "text/plain": [
       "dtype('int64')"
      ]
     },
     "execution_count": 9,
     "metadata": {},
     "output_type": "execute_result"
    }
   ],
   "source": [
    "a.dtype"
   ]
  }
 ],
 "metadata": {
  "kernelspec": {
   "display_name": ".venv",
   "language": "python",
   "name": "python3"
  },
  "language_info": {
   "codemirror_mode": {
    "name": "ipython",
    "version": 3
   },
   "file_extension": ".py",
   "mimetype": "text/x-python",
   "name": "python",
   "nbconvert_exporter": "python",
   "pygments_lexer": "ipython3",
   "version": "3.13.5"
  }
 },
 "nbformat": 4,
 "nbformat_minor": 5
}
